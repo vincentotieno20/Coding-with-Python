{
 "cells": [
  {
   "cell_type": "markdown",
   "id": "9762f163-a5bb-46b7-b609-a15890532b37",
   "metadata": {},
   "source": [
    "####  Section 2 (Q 4a c & d )"
   ]
  },
  {
   "cell_type": "markdown",
   "id": "4e430a17-8b62-4d1b-aaf9-13c53497a8cf",
   "metadata": {},
   "source": [
    "####  Q 4. Write a program to display the following output:\n",
    "\n",
    "1. My Number\n",
    "\n",
    "2. My Account\n",
    "\n",
    "3. Report Fraud\n",
    "\n",
    "4. Block SIM Swap\n",
    "\n",
    "5. Find Studtel Shop\n",
    "\n",
    "6. Get Postpaid,Mifi,Router\n",
    "\n",
    "7. Get PUK\n",
    "\n",
    "such that upon selection of option 5,the following menu displays:\n",
    "\n",
    "Select Region :\n",
    "\n",
    "Nairobi\n",
    "\n",
    "Central\n",
    "\n",
    "Eastern\n",
    "\n",
    "Western\n",
    "\n",
    "Nyanza\n",
    "\n",
    "Rift Valley\n",
    "\n",
    "Coast\n",
    "\n",
    "North Eastern\n",
    "\n",
    "0 Main Menu"
   ]
  },
  {
   "cell_type": "markdown",
   "id": "83ddb059-7526-4cc6-aaa7-f5644af6690b",
   "metadata": {},
   "source": [
    "####  b. upon selecting 1 the following menu displays:\n",
    "\n",
    "Please Choose a shop within NAIROBI,KIAMBU\n",
    "\n",
    "Mombasa Rd/Uhuru Highway\n",
    "\n",
    "CBD\n",
    "\n",
    "Westlands\n",
    "\n",
    "Karen/Rongai\n",
    "\n",
    "Thika Road.\n",
    "\n",
    "00 Exit"
   ]
  },
  {
   "cell_type": "markdown",
   "id": "77be2b9b-d0c8-4a79-a321-4755dbce231b",
   "metadata": {},
   "source": [
    "####  c. and finally upon selecting 2 the following message displays:\n",
    "\n",
    "'You will get an sms with the list of shops in CBD'."
   ]
  },
  {
   "cell_type": "code",
   "execution_count": null,
   "id": "1eb7471c-d211-4716-bbb5-5e7b7fba6f96",
   "metadata": {},
   "outputs": [
    {
     "name": "stdout",
     "output_type": "stream",
     "text": [
      "Main Menu:\n",
      "1. My Number\n",
      "2. My Account\n",
      "3. Report Fraud\n",
      "4. Block SIM Swap\n",
      "5. Find Studtel Shop\n",
      "6. Get Postpaid, Mifi, Router\n",
      "7. Get PUK\n"
     ]
    },
    {
     "name": "stdin",
     "output_type": "stream",
     "text": [
      "Enter your choice (1-7):  5\n"
     ]
    },
    {
     "name": "stdout",
     "output_type": "stream",
     "text": [
      "\n",
      "Select Region:\n",
      "1. Nairobi\n",
      "2. Central\n",
      "3. Eastern\n",
      "4. Western\n",
      "5. Nyanza\n",
      "6. Rift Valley\n",
      "7. Coast\n",
      "8. North Eastern\n",
      "0. Main Menu\n"
     ]
    },
    {
     "name": "stdin",
     "output_type": "stream",
     "text": [
      "Enter your choice (1-8, 0):  1\n"
     ]
    },
    {
     "name": "stdout",
     "output_type": "stream",
     "text": [
      "\n",
      "Please Choose a shop within NAIROBI, KIAMBU:\n",
      "1. Mombasa Rd/Uhuru Highway\n",
      "2. CBD\n",
      "3. Westlands\n",
      "4. Karen/Rongai\n",
      "5. Thika Road\n",
      "00. Exit\n",
      "Main Menu:\n",
      "1. My Number\n",
      "2. My Account\n",
      "3. Report Fraud\n",
      "4. Block SIM Swap\n",
      "5. Find Studtel Shop\n",
      "6. Get Postpaid, Mifi, Router\n",
      "7. Get PUK\n"
     ]
    }
   ],
   "source": [
    "def display_main_menu():\n",
    "    print(\"Main Menu:\")\n",
    "    print(\"1. My Number\")\n",
    "    print(\"2. My Account\")\n",
    "    print(\"3. Report Fraud\")\n",
    "    print(\"4. Block SIM Swap\")\n",
    "    print(\"5. Find Studtel Shop\")\n",
    "    print(\"6. Get Postpaid, Mifi, Router\")\n",
    "    print(\"7. Get PUK\")\n",
    "\n",
    "def display_region_menu():\n",
    "    print(\"\\nSelect Region:\")\n",
    "    print(\"1. Nairobi\")\n",
    "    print(\"2. Central\")\n",
    "    print(\"3. Eastern\")\n",
    "    print(\"4. Western\")\n",
    "    print(\"5. Nyanza\")\n",
    "    print(\"6. Rift Valley\")\n",
    "    print(\"7. Coast\")\n",
    "    print(\"8. North Eastern\")\n",
    "    print(\"0. Main Menu\")\n",
    "\n",
    "def display_nairobi_menu():\n",
    "    print(\"\\nPlease Choose a shop within NAIROBI, KIAMBU:\")\n",
    "    print(\"1. Mombasa Rd/Uhuru Highway\")\n",
    "    print(\"2. CBD\")\n",
    "    print(\"3. Westlands\")\n",
    "    print(\"4. Karen/Rongai\")\n",
    "    print(\"5. Thika Road\")\n",
    "    print(\"00. Exit\")\n",
    "\n",
    "def handle_selection(choice):\n",
    "    if choice == '1':\n",
    "        display_nairobi_menu()\n",
    "    elif choice == '2':\n",
    "        print(\"You will receive an SMS with the list of shops in CBD.\")\n",
    "    elif choice == '00':\n",
    "        print(\"Exiting. Have a great day!\")\n",
    "    else:\n",
    "        print(\"Invalid choice. Please select a valid option.\")\n",
    "\n",
    "while True:\n",
    "    display_main_menu()\n",
    "    user_choice = input(\"Enter your choice (1-7): \")\n",
    "\n",
    "    if user_choice == '5':\n",
    "        display_region_menu()\n",
    "        region_choice = input(\"Enter your choice (1-8, 0): \")\n",
    "        handle_selection(region_choice)\n",
    "    else:\n",
    "        handle_selection(user_choice)\n"
   ]
  },
  {
   "cell_type": "code",
   "execution_count": null,
   "id": "80c3fe01-3fd2-40f2-902d-98363da2636e",
   "metadata": {},
   "outputs": [],
   "source": []
  }
 ],
 "metadata": {
  "kernelspec": {
   "display_name": "Python 3 (ipykernel)",
   "language": "python",
   "name": "python3"
  },
  "language_info": {
   "codemirror_mode": {
    "name": "ipython",
    "version": 3
   },
   "file_extension": ".py",
   "mimetype": "text/x-python",
   "name": "python",
   "nbconvert_exporter": "python",
   "pygments_lexer": "ipython3",
   "version": "3.11.7"
  }
 },
 "nbformat": 4,
 "nbformat_minor": 5
}
